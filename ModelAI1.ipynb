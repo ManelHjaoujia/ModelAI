{
 "cells": [
  {
   "cell_type": "code",
   "id": "initial_id",
   "metadata": {
    "collapsed": true
   },
   "source": [
    "import numpy as np\n",
    "import pandas as pd\n",
    "import tensorflow as tf\n",
    "from tensorflow.keras.models import Sequential\n",
    "from tensorflow.keras.layers import Input, Conv1D, BatchNormalization, Dropout, Flatten, Dense\n",
    "from tensorflow.keras.callbacks import EarlyStopping\n",
    "from sklearn.preprocessing import StandardScaler\n",
    "from sklearn.model_selection import train_test_split\n",
    "from sklearn.decomposition import PCA\n",
    "from tensorflow.keras import mixed_precision\n",
    "from tensorflow.keras.optimizers import RMSprop"
   ],
   "outputs": [],
   "execution_count": null
  },
  {
   "metadata": {},
   "cell_type": "code",
   "source": [
    "# Ensure TensorFlow is using GPU\n",
    "print(\"Num GPUs Available: \", len(tf.config.experimental.list_physical_devices('GPU')))\n",
    "\n",
    "# Set up mixed precision training for speed\n",
    "policy = mixed_precision.Policy('mixed_float16')\n",
    "mixed_precision.set_global_policy(policy)"
   ],
   "id": "8677b07737ae8243",
   "outputs": [],
   "execution_count": null
  },
  {
   "metadata": {},
   "cell_type": "code",
   "source": "df_ = pd.read_csv(\"all_buildings_data.csv\")",
   "id": "4eb5898adfc93ca7",
   "outputs": [],
   "execution_count": null
  },
  {
   "metadata": {},
   "cell_type": "code",
   "source": [
    "# Afficher les premières lignes du DataFrame\n",
    "print(df_.head())\n",
    "\n",
    "# Afficher les informations générales (colonnes, types de données, valeurs manquantes)\n",
    "print(df_.info())\n",
    "\n",
    "# Résumé statistique\n",
    "print(df_.describe())\n"
   ],
   "id": "59158fe8644214f7",
   "outputs": [],
   "execution_count": null
  },
  {
   "metadata": {},
   "cell_type": "code",
   "source": "df = df_.drop_duplicates()",
   "id": "a4f81943e65c9143",
   "outputs": [],
   "execution_count": null
  },
  {
   "metadata": {},
   "cell_type": "code",
   "source": "df = df.drop(columns=['Unnamed: 0', 'building'])",
   "id": "ec69f5ce3c0ee606",
   "outputs": [],
   "execution_count": null
  },
  {
   "metadata": {},
   "cell_type": "code",
   "source": [
    "# Extract features and target\n",
    "X = df.drop(columns=['aggregate']).values\n",
    "y = df['aggregate'].values"
   ],
   "id": "159deee57cdd47b7",
   "outputs": [],
   "execution_count": null
  },
  {
   "metadata": {},
   "cell_type": "code",
   "source": [
    "# Standardize features\n",
    "scaler = StandardScaler()\n",
    "X = scaler.fit_transform(X)"
   ],
   "id": "618be86873d5cb7",
   "outputs": [],
   "execution_count": null
  },
  {
   "metadata": {},
   "cell_type": "code",
   "source": [
    "# Reduce dimensions using PCA (optional but can speed up training)\n",
    "pca = PCA(n_components=20)  # Reduce to 20 components\n",
    "X = pca.fit_transform(X)"
   ],
   "id": "f5116a04e1d621ec",
   "outputs": [],
   "execution_count": null
  },
  {
   "metadata": {},
   "cell_type": "code",
   "source": [
    "# Reshape X for Conv1D input\n",
    "X = X.reshape((X.shape[0], X.shape[1], 1))"
   ],
   "id": "92814ff42156846a",
   "outputs": [],
   "execution_count": null
  },
  {
   "metadata": {},
   "cell_type": "code",
   "source": [
    "# Split the data into training and testing sets\n",
    "X_train, X_test, y_train, y_test = train_test_split(X, y, test_size=0.2, random_state=42)"
   ],
   "id": "188e2220de088e10",
   "outputs": [],
   "execution_count": null
  },
  {
   "metadata": {},
   "cell_type": "code",
   "source": [
    "# Define the optimized Seq2Point model\n",
    "def seq2point_model(input_shape):\n",
    "    model = Sequential()\n",
    "    model.add(Input(shape=input_shape))\n",
    "    model.add(Conv1D(16, 3, activation='relu', padding='same'))\n",
    "    model.add(Conv1D(32, 3, activation='relu', padding='same'))\n",
    "    model.add(BatchNormalization())\n",
    "    model.add(Dropout(0.2))\n",
    "    model.add(Flatten())\n",
    "    model.add(Dense(128, activation='relu'))\n",
    "    model.add(Dense(1))  # Output layer for regression\n",
    "    model.compile(loss='mse', optimizer=RMSprop(learning_rate=0.001), metrics=['mae'])\n",
    "    return model"
   ],
   "id": "8dc3856f579f33dd",
   "outputs": [],
   "execution_count": null
  },
  {
   "metadata": {},
   "cell_type": "code",
   "source": [
    "# Create the model\n",
    "model = seq2point_model((X_train.shape[1], 1))"
   ],
   "id": "34e883d2310d7354",
   "outputs": [],
   "execution_count": null
  },
  {
   "metadata": {},
   "cell_type": "code",
   "source": [
    "# Set up EarlyStopping to prevent overfitting\n",
    "early_stopping = EarlyStopping(monitor='val_loss', patience=5, restore_best_weights=True)\n"
   ],
   "id": "1c0ddc3fb8ef2f46",
   "outputs": [],
   "execution_count": null
  },
  {
   "metadata": {
    "jupyter": {
     "is_executing": true
    }
   },
   "cell_type": "code",
   "source": [
    "# Train the model with larger batch size (if GPU is available)\n",
    "model.fit(X_train, y_train, epochs=50, batch_size=128, validation_split=0.1,\n",
    "          verbose=1, callbacks=[early_stopping])"
   ],
   "id": "a99fd8ef0ae4042c",
   "outputs": [],
   "execution_count": null
  },
  {
   "metadata": {},
   "cell_type": "code",
   "source": [
    "# Evaluate the model\n",
    "loss, mae = model.evaluate(X_test, y_test, verbose=1)\n",
    "print(f'Model Mean Absolute Error: {mae}')"
   ],
   "id": "b685b67582d4ca95",
   "outputs": [],
   "execution_count": null
  },
  {
   "metadata": {},
   "cell_type": "code",
   "source": [
    "# Function to predict appliance consumption from aggregate features\n",
    "def predict_appliance_consumption(aggregate_features, scaler, model):\n",
    "    # Standardize the input features\n",
    "    aggregate_features = np.array(aggregate_features).reshape(1, -1)\n",
    "    aggregate_features = scaler.transform(aggregate_features)\n",
    "    aggregate_features = aggregate_features.reshape((aggregate_features.shape[0], aggregate_features.shape[1], 1))\n",
    "\n",
    "    # Predict using the trained model\n",
    "    predictions = model.predict(aggregate_features)\n",
    "    return predictions"
   ],
   "id": "d3b772aa1a32752a",
   "outputs": [],
   "execution_count": null
  },
  {
   "metadata": {},
   "cell_type": "code",
   "source": "",
   "id": "a00e19aa4f8ed039",
   "outputs": [],
   "execution_count": null
  }
 ],
 "metadata": {
  "kernelspec": {
   "display_name": "Python 3",
   "language": "python",
   "name": "python3"
  },
  "language_info": {
   "codemirror_mode": {
    "name": "ipython",
    "version": 2
   },
   "file_extension": ".py",
   "mimetype": "text/x-python",
   "name": "python",
   "nbconvert_exporter": "python",
   "pygments_lexer": "ipython2",
   "version": "2.7.6"
  }
 },
 "nbformat": 4,
 "nbformat_minor": 5
}
